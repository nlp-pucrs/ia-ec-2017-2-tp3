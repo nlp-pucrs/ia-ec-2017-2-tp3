{
 "cells": [
  {
   "cell_type": "markdown",
   "metadata": {},
   "source": [
    "# Importação das bibliotecas"
   ]
  },
  {
   "cell_type": "code",
   "execution_count": 6,
   "metadata": {},
   "outputs": [],
   "source": [
    "import matplotlib.pyplot as plt\n",
    "import pandas as pd\n",
    "import numpy as np\n",
    "import math\n",
    "#from ggplot import *\n",
    "from sklearn import linear_model, datasets, metrics\n",
    "from sklearn import svm\n",
    "from sklearn.datasets import fetch_mldata\n",
    "from sklearn.decomposition import PCA, RandomizedPCA\n",
    "from sklearn.neural_network import MLPClassifier, BernoulliRBM\n",
    "from sklearn.pipeline import Pipeline\n",
    "from sklearn.model_selection import train_test_split, cross_val_score, GridSearchCV\n",
    "from sklearn.metrics import classification_report, confusion_matrix, accuracy_score"
   ]
  },
  {
   "cell_type": "markdown",
   "metadata": {},
   "source": [
    "# Funções úteis"
   ]
  },
  {
   "cell_type": "code",
   "execution_count": 7,
   "metadata": {
    "collapsed": true
   },
   "outputs": [],
   "source": [
    "def plot_gallery(images, titles, h, w, n_row=3, n_col=4):\n",
    "    plt.figure(figsize=(1.8 * n_col, 2.4 * n_row))\n",
    "    plt.subplots_adjust(bottom=0, left=.01, right=.99,\n",
    "                        top=.90, hspace=.35)\n",
    "    for i in range(n_row * n_col):\n",
    "        plt.subplot(n_row, n_col, i + 1)\n",
    "        plt.imshow(images[i].reshape((h, w)), cmap=plt.cm.gray)\n",
    "        plt.title(titles[i], size=12)\n",
    "        plt.xticks(())\n",
    "        plt.yticks(())"
   ]
  },
  {
   "cell_type": "markdown",
   "metadata": {},
   "source": [
    "# Carrega o Dataset"
   ]
  },
  {
   "cell_type": "raw",
   "metadata": {},
   "source": [
    "O dataset escolhido foi o MNIST, que é um conjunto de imagens de digitos de 0 a 9 escritos a mão."
   ]
  },
  {
   "cell_type": "code",
   "execution_count": 8,
   "metadata": {
    "collapsed": true
   },
   "outputs": [],
   "source": [
    "mnist = fetch_mldata(\"MNIST original\")"
   ]
  },
  {
   "cell_type": "markdown",
   "metadata": {},
   "source": [
    "# Pré-processamento"
   ]
  },
  {
   "cell_type": "raw",
   "metadata": {},
   "source": [
    "Utilização do PCA para o redimensionamento das imagens"
   ]
  },
  {
   "cell_type": "code",
   "execution_count": 9,
   "metadata": {},
   "outputs": [
    {
     "name": "stdout",
     "output_type": "stream",
     "text": [
      "Utilizamos 56000 amostras para treinamento e 14000 amostras para teste\n",
      "numero de amostras total do dataset: 70000\n",
      "numero de features: 784\n"
     ]
    }
   ],
   "source": [
    "X_train, X_test, y_train, y_test = train_test_split(mnist.data / 255., mnist.target, test_size=0.20)\n",
    "print('Utilizamos %d amostras para treinamento e %d amostras para teste' % (len(X_train), len(X_test)))\n",
    "\n",
    "n_samples = mnist.data.shape[0]\n",
    "n_features = mnist.data.shape[1]\n",
    "\n",
    "target_names = ['0', '1', '2', '3', '4', '5', '6', '7', '8', '9']\n",
    "\n",
    "print('numero de amostras total do dataset:', n_samples)\n",
    "print('numero de features:', n_features)\n",
    "\n",
    "n_components = 16\n",
    "\n",
    "pca = PCA(n_components=n_components, svd_solver='randomized', whiten=True).fit(X_train)\n",
    "\n",
    "pca_numbers = pca.components_.reshape((n_components, 28, 28))\n",
    "X_train_pca = pca.transform(X_train)\n",
    "X_test_pca = pca.transform(X_test)"
   ]
  },
  {
   "cell_type": "code",
   "execution_count": 10,
   "metadata": {},
   "outputs": [
    {
     "data": {
      "image/png": "[encoded data removed]",
      "text/plain": [
       "<matplotlib.figure.Figure at 0x7ff6cc5f56a0>"
      ]
     },
     "metadata": {},
     "output_type": "display_data"
    }
   ],
   "source": [
    "pcanumber_titles= []\n",
    "for i in range(mnist.data.shape[0]):\n",
    "    pcanumber_titles.append(\"Digit \"+str(i))\n",
    " \n",
    "plot_gallery(pca_numbers, pcanumber_titles, 28, 28)\n",
    " \n",
    "plt.show()"
   ]
  },
  {
   "cell_type": "markdown",
   "metadata": {
    "collapsed": true
   },
   "source": [
    "# Treinamento utilizando o MLPClassifier"
   ]
  },
  {
   "cell_type": "code",
   "execution_count": 44,
   "metadata": {
    "scrolled": true
   },
   "outputs": [],
   "source": [
    "mlp = MLPClassifier(hidden_layer_sizes=(89,), activation='tanh', max_iter=1000, alpha=1e-4,\n",
    "                    solver='sgd', verbose=10, tol=1e-5, random_state=1,\n",
    "                    learning_rate_init=.1)\n",
    "#activation : {‘identity’, ‘logistic’, ‘tanh’, ‘relu’}"
   ]
  },
  {
   "cell_type": "code",
   "execution_count": 45,
   "metadata": {},
   "outputs": [
    {
     "name": "stdout",
     "output_type": "stream",
     "text": [
      "Iteration 1, loss = 0.31032216\n",
      "Iteration 2, loss = 0.15207168\n",
      "Iteration 3, loss = 0.11059868\n",
      "Iteration 4, loss = 0.08686078\n",
      "Iteration 5, loss = 0.07143249\n",
      "Iteration 6, loss = 0.05938503\n",
      "Iteration 7, loss = 0.05122458\n",
      "Iteration 8, loss = 0.04306196\n",
      "Iteration 9, loss = 0.03705915\n",
      "Iteration 10, loss = 0.03180612\n",
      "Iteration 11, loss = 0.02753249\n",
      "Iteration 12, loss = 0.02376474\n",
      "Iteration 13, loss = 0.02064492\n",
      "Iteration 14, loss = 0.01803107\n",
      "Iteration 15, loss = 0.01579507\n",
      "Iteration 16, loss = 0.01362228\n",
      "Iteration 17, loss = 0.01212235\n",
      "Iteration 18, loss = 0.01064153\n",
      "Iteration 19, loss = 0.00954750\n",
      "Iteration 20, loss = 0.00848149\n",
      "Iteration 21, loss = 0.00770892\n",
      "Iteration 22, loss = 0.00692291\n",
      "Iteration 23, loss = 0.00626042\n",
      "Iteration 24, loss = 0.00581721\n",
      "Iteration 25, loss = 0.00531396\n",
      "Iteration 26, loss = 0.00491804\n",
      "Iteration 27, loss = 0.00458133\n",
      "Iteration 28, loss = 0.00436730\n",
      "Iteration 29, loss = 0.00410546\n",
      "Iteration 30, loss = 0.00386134\n",
      "Iteration 31, loss = 0.00367231\n",
      "Iteration 32, loss = 0.00349656\n",
      "Iteration 33, loss = 0.00329620\n",
      "Iteration 34, loss = 0.00314805\n",
      "Iteration 35, loss = 0.00304891\n",
      "Iteration 36, loss = 0.00291688\n",
      "Iteration 37, loss = 0.00280382\n",
      "Iteration 38, loss = 0.00273195\n",
      "Iteration 39, loss = 0.00262080\n",
      "Iteration 40, loss = 0.00253310\n",
      "Iteration 41, loss = 0.00243385\n",
      "Iteration 42, loss = 0.00236545\n",
      "Iteration 43, loss = 0.00231018\n",
      "Iteration 44, loss = 0.00224129\n",
      "Iteration 45, loss = 0.00216953\n",
      "Iteration 46, loss = 0.00212240\n",
      "Iteration 47, loss = 0.00205912\n",
      "Iteration 48, loss = 0.00202345\n",
      "Iteration 49, loss = 0.00197041\n",
      "Iteration 50, loss = 0.00192334\n",
      "Iteration 51, loss = 0.00187594\n",
      "Iteration 52, loss = 0.00184274\n",
      "Iteration 53, loss = 0.00180140\n",
      "Iteration 54, loss = 0.00176634\n",
      "Iteration 55, loss = 0.00172965\n",
      "Iteration 56, loss = 0.00169876\n",
      "Iteration 57, loss = 0.00166959\n",
      "Iteration 58, loss = 0.00163914\n",
      "Iteration 59, loss = 0.00160526\n",
      "Iteration 60, loss = 0.00158054\n",
      "Iteration 61, loss = 0.00155483\n",
      "Iteration 62, loss = 0.00152842\n",
      "Iteration 63, loss = 0.00150723\n",
      "Iteration 64, loss = 0.00148552\n",
      "Iteration 65, loss = 0.00146667\n",
      "Iteration 66, loss = 0.00144112\n",
      "Iteration 67, loss = 0.00142144\n",
      "Iteration 68, loss = 0.00140007\n",
      "Iteration 69, loss = 0.00138107\n",
      "Iteration 70, loss = 0.00136299\n",
      "Iteration 71, loss = 0.00134925\n",
      "Iteration 72, loss = 0.00133294\n",
      "Iteration 73, loss = 0.00131390\n",
      "Iteration 74, loss = 0.00129716\n",
      "Iteration 75, loss = 0.00128197\n",
      "Iteration 76, loss = 0.00126801\n",
      "Iteration 77, loss = 0.00125435\n",
      "Iteration 78, loss = 0.00124177\n",
      "Iteration 79, loss = 0.00122591\n",
      "Iteration 80, loss = 0.00121361\n",
      "Iteration 81, loss = 0.00120096\n",
      "Iteration 82, loss = 0.00119060\n",
      "Iteration 83, loss = 0.00118042\n",
      "Iteration 84, loss = 0.00116968\n",
      "Iteration 85, loss = 0.00115677\n",
      "Iteration 86, loss = 0.00114762\n",
      "Iteration 87, loss = 0.00113785\n",
      "Iteration 88, loss = 0.00112927\n",
      "Training loss did not improve more than tol=0.000010 for two consecutive epochs. Stopping.\n",
      "Training set score WITHOUT pca: 1.000000\n",
      "Test set score WITHOUT pca: 0.975857\n"
     ]
    }
   ],
   "source": [
    "mlp.fit(X_train, y_train)\n",
    "y_pred = mlp.predict(X_test)\n",
    "print(\"Training set score WITHOUT pca: %f\" % mlp.score(X_train, y_train))\n",
    "print(\"Test set score WITHOUT pca: %f\" % mlp.score(X_test, y_test))"
   ]
  },
  {
   "cell_type": "code",
   "execution_count": 46,
   "metadata": {},
   "outputs": [
    {
     "name": "stdout",
     "output_type": "stream",
     "text": [
      "Iteration 1, loss = 0.47597010\n",
      "Iteration 2, loss = 0.27553808\n",
      "Iteration 3, loss = 0.20661237\n",
      "Iteration 4, loss = 0.17570460\n",
      "Iteration 5, loss = 0.15698907\n",
      "Iteration 6, loss = 0.14412227\n",
      "Iteration 7, loss = 0.13595119\n",
      "Iteration 8, loss = 0.12803037\n",
      "Iteration 9, loss = 0.12246642\n",
      "Iteration 10, loss = 0.11801112\n",
      "Iteration 11, loss = 0.11435518\n",
      "Iteration 12, loss = 0.11102220\n",
      "Iteration 13, loss = 0.10858527\n",
      "Iteration 14, loss = 0.10565898\n",
      "Iteration 15, loss = 0.10327723\n",
      "Iteration 16, loss = 0.10111979\n",
      "Iteration 17, loss = 0.09956910\n",
      "Iteration 18, loss = 0.09747862\n",
      "Iteration 19, loss = 0.09617378\n",
      "Iteration 20, loss = 0.09509492\n",
      "Iteration 21, loss = 0.09355943\n",
      "Iteration 22, loss = 0.09261489\n",
      "Iteration 23, loss = 0.09070667\n",
      "Iteration 24, loss = 0.08952057\n",
      "Iteration 25, loss = 0.08870579\n",
      "Iteration 26, loss = 0.08712377\n",
      "Iteration 27, loss = 0.08702038\n",
      "Iteration 28, loss = 0.08586066\n",
      "Iteration 29, loss = 0.08389772\n",
      "Iteration 30, loss = 0.08364045\n",
      "Iteration 31, loss = 0.08281232\n",
      "Iteration 32, loss = 0.08306112\n",
      "Iteration 33, loss = 0.08195157\n",
      "Iteration 34, loss = 0.08039129\n",
      "Iteration 35, loss = 0.08108718\n",
      "Iteration 36, loss = 0.07963252\n",
      "Iteration 37, loss = 0.08010862\n",
      "Iteration 38, loss = 0.07913303\n",
      "Iteration 39, loss = 0.07841840\n",
      "Iteration 40, loss = 0.07778887\n",
      "Iteration 41, loss = 0.07757102\n",
      "Iteration 42, loss = 0.07706474\n",
      "Iteration 43, loss = 0.07675537\n",
      "Iteration 44, loss = 0.07673327\n",
      "Iteration 45, loss = 0.07607669\n",
      "Iteration 46, loss = 0.07616172\n",
      "Iteration 47, loss = 0.07566700\n",
      "Iteration 48, loss = 0.07575180\n",
      "Iteration 49, loss = 0.07486562\n",
      "Iteration 50, loss = 0.07419888\n",
      "Iteration 51, loss = 0.07464457\n",
      "Iteration 52, loss = 0.07352910\n",
      "Iteration 53, loss = 0.07395968\n",
      "Iteration 54, loss = 0.07402467\n",
      "Iteration 55, loss = 0.07336332\n",
      "Iteration 56, loss = 0.07334836\n",
      "Iteration 57, loss = 0.07281481\n",
      "Iteration 58, loss = 0.07309997\n",
      "Iteration 59, loss = 0.07249215\n",
      "Iteration 60, loss = 0.07246577\n",
      "Iteration 61, loss = 0.07228987\n",
      "Iteration 62, loss = 0.07132960\n",
      "Iteration 63, loss = 0.07182219\n",
      "Iteration 64, loss = 0.07156308\n",
      "Iteration 65, loss = 0.07135960\n",
      "Training loss did not improve more than tol=0.000010 for two consecutive epochs. Stopping.\n",
      "Training set score WITH pca: 0.980036\n",
      "Test set score WITH pca: 0.958714\n"
     ]
    }
   ],
   "source": [
    "mlp.fit(X_train_pca, y_train)\n",
    "y_pred_pca = mlp.predict(X_test_pca)\n",
    "print(\"Training set score WITH pca: %f\" % mlp.score(X_train_pca, y_train))\n",
    "print(\"Test set score WITH pca: %f\" % mlp.score(X_test_pca, y_test))"
   ]
  },
  {
   "cell_type": "markdown",
   "metadata": {},
   "source": [
    "# Avaliação"
   ]
  },
  {
   "cell_type": "code",
   "execution_count": 47,
   "metadata": {},
   "outputs": [
    {
     "name": "stdout",
     "output_type": "stream",
     "text": [
      "Classification Report without using pca\n",
      "             precision    recall  f1-score   support\n",
      "\n",
      "          0       0.98      0.99      0.98      1403\n",
      "          1       0.99      0.99      0.99      1574\n",
      "          2       0.96      0.98      0.97      1361\n",
      "          3       0.98      0.96      0.97      1454\n",
      "          4       0.98      0.98      0.98      1326\n",
      "          5       0.97      0.97      0.97      1255\n",
      "          6       0.98      0.99      0.98      1371\n",
      "          7       0.98      0.98      0.98      1464\n",
      "          8       0.96      0.96      0.96      1351\n",
      "          9       0.97      0.97      0.97      1441\n",
      "\n",
      "avg / total       0.98      0.98      0.98     14000\n",
      "\n"
     ]
    }
   ],
   "source": [
    "print('Classification Report without using pca')\n",
    "print(classification_report(y_test, y_pred, target_names=target_names))"
   ]
  },
  {
   "cell_type": "code",
   "execution_count": 48,
   "metadata": {},
   "outputs": [
    {
     "name": "stdout",
     "output_type": "stream",
     "text": [
      "Classification Report using pca\n",
      "             precision    recall  f1-score   support\n",
      "\n",
      "          0       0.97      0.98      0.98      1403\n",
      "          1       0.98      0.99      0.99      1574\n",
      "          2       0.95      0.96      0.96      1361\n",
      "          3       0.96      0.93      0.94      1454\n",
      "          4       0.96      0.96      0.96      1326\n",
      "          5       0.96      0.95      0.95      1255\n",
      "          6       0.97      0.98      0.97      1371\n",
      "          7       0.96      0.96      0.96      1464\n",
      "          8       0.94      0.94      0.94      1351\n",
      "          9       0.93      0.94      0.93      1441\n",
      "\n",
      "avg / total       0.96      0.96      0.96     14000\n",
      "\n"
     ]
    }
   ],
   "source": [
    "print('Classification Report using pca')\n",
    "print(classification_report(y_test, y_pred_pca, target_names=target_names))"
   ]
  },
  {
   "cell_type": "code",
   "execution_count": 49,
   "metadata": {
    "scrolled": true
   },
   "outputs": [
    {
     "name": "stdout",
     "output_type": "stream",
     "text": [
      "Validação cruzada do treinamento sem a utilização do PCA\n",
      "Iteration 1, loss = 0.36295318\n",
      "Iteration 2, loss = 0.18725090\n",
      "Iteration 3, loss = 0.13712885\n",
      "Iteration 4, loss = 0.10735307\n",
      "Iteration 5, loss = 0.08880382\n",
      "Iteration 6, loss = 0.07407731\n",
      "Iteration 7, loss = 0.06289353\n",
      "Iteration 8, loss = 0.05323720\n",
      "Iteration 9, loss = 0.04592737\n",
      "Iteration 10, loss = 0.03943217\n",
      "Iteration 11, loss = 0.03429402\n",
      "Iteration 12, loss = 0.02925407\n",
      "Iteration 13, loss = 0.02551846\n",
      "Iteration 14, loss = 0.02186453\n",
      "Iteration 15, loss = 0.01939984\n",
      "Iteration 16, loss = 0.01725456\n",
      "Iteration 17, loss = 0.01505259\n",
      "Iteration 18, loss = 0.01322494\n",
      "Iteration 19, loss = 0.01167618\n",
      "Iteration 20, loss = 0.01060813\n",
      "Iteration 21, loss = 0.00955805\n",
      "Iteration 22, loss = 0.00857096\n",
      "Iteration 23, loss = 0.00789553\n",
      "Iteration 24, loss = 0.00719844\n",
      "Iteration 25, loss = 0.00660903\n",
      "Iteration 26, loss = 0.00624172\n",
      "Iteration 27, loss = 0.00572678\n",
      "Iteration 28, loss = 0.00539681\n",
      "Iteration 29, loss = 0.00497422\n",
      "Iteration 30, loss = 0.00472810\n",
      "Iteration 31, loss = 0.00447426\n",
      "Iteration 32, loss = 0.00423796\n",
      "Iteration 33, loss = 0.00408213\n",
      "Iteration 34, loss = 0.00385790\n",
      "Iteration 35, loss = 0.00370197\n",
      "Iteration 36, loss = 0.00351871\n",
      "Iteration 37, loss = 0.00336659\n",
      "Iteration 38, loss = 0.00327755\n",
      "Iteration 39, loss = 0.00312423\n",
      "Iteration 40, loss = 0.00301830\n",
      "Iteration 41, loss = 0.00292305\n",
      "Iteration 42, loss = 0.00281514\n",
      "Iteration 43, loss = 0.00271593\n",
      "Iteration 44, loss = 0.00264242\n",
      "Iteration 45, loss = 0.00256925\n",
      "Iteration 46, loss = 0.00248925\n",
      "Iteration 47, loss = 0.00242348\n",
      "Iteration 48, loss = 0.00235815\n",
      "Iteration 49, loss = 0.00229343\n",
      "Iteration 50, loss = 0.00224353\n",
      "Iteration 51, loss = 0.00218627\n",
      "Iteration 52, loss = 0.00213725\n",
      "Iteration 53, loss = 0.00210034\n",
      "Iteration 54, loss = 0.00204519\n",
      "Iteration 55, loss = 0.00199724\n",
      "Iteration 56, loss = 0.00195624\n",
      "Iteration 57, loss = 0.00191540\n",
      "Iteration 58, loss = 0.00187959\n",
      "Iteration 59, loss = 0.00184199\n",
      "Iteration 60, loss = 0.00180804\n",
      "Iteration 61, loss = 0.00177195\n",
      "Iteration 62, loss = 0.00174554\n",
      "Iteration 63, loss = 0.00170792\n",
      "Iteration 64, loss = 0.00167883\n",
      "Iteration 65, loss = 0.00165708\n",
      "Iteration 66, loss = 0.00162838\n",
      "Iteration 67, loss = 0.00160354\n",
      "Iteration 68, loss = 0.00157967\n",
      "Iteration 69, loss = 0.00155745\n",
      "Iteration 70, loss = 0.00152989\n",
      "Iteration 71, loss = 0.00150880\n",
      "Iteration 72, loss = 0.00148839\n",
      "Iteration 73, loss = 0.00146594\n",
      "Iteration 74, loss = 0.00144992\n",
      "Iteration 75, loss = 0.00142824\n",
      "Iteration 76, loss = 0.00141153\n",
      "Iteration 77, loss = 0.00139423\n",
      "Iteration 78, loss = 0.00137645\n",
      "Iteration 79, loss = 0.00135865\n",
      "Iteration 80, loss = 0.00134177\n",
      "Iteration 81, loss = 0.00132608\n",
      "Iteration 82, loss = 0.00131246\n",
      "Iteration 83, loss = 0.00129589\n",
      "Iteration 84, loss = 0.00128280\n",
      "Iteration 85, loss = 0.00126912\n",
      "Iteration 86, loss = 0.00125662\n",
      "Iteration 87, loss = 0.00124264\n",
      "Iteration 88, loss = 0.00123134\n",
      "Iteration 89, loss = 0.00121883\n",
      "Iteration 90, loss = 0.00120510\n",
      "Iteration 91, loss = 0.00119430\n",
      "Iteration 92, loss = 0.00118331\n",
      "Iteration 93, loss = 0.00117201\n",
      "Iteration 94, loss = 0.00116266\n",
      "Iteration 95, loss = 0.00115115\n",
      "Iteration 96, loss = 0.00113846\n",
      "Iteration 97, loss = 0.00113019\n",
      "Iteration 98, loss = 0.00112002\n",
      "Iteration 99, loss = 0.00110940\n",
      "Iteration 100, loss = 0.00110211\n",
      "Iteration 101, loss = 0.00109297\n",
      "Iteration 102, loss = 0.00108431\n",
      "Training loss did not improve more than tol=0.000010 for two consecutive epochs. Stopping.\n",
      "Iteration 1, loss = 0.36128525\n",
      "Iteration 2, loss = 0.18343861\n",
      "Iteration 3, loss = 0.13426710\n",
      "Iteration 4, loss = 0.10591755\n",
      "Iteration 5, loss = 0.08681583\n",
      "Iteration 6, loss = 0.07186369\n",
      "Iteration 7, loss = 0.06064923\n",
      "Iteration 8, loss = 0.05118624\n",
      "Iteration 9, loss = 0.04346993\n",
      "Iteration 10, loss = 0.03671588\n",
      "Iteration 11, loss = 0.03166731\n",
      "Iteration 12, loss = 0.02662508\n",
      "Iteration 13, loss = 0.02363752\n",
      "Iteration 14, loss = 0.02032521\n",
      "Iteration 15, loss = 0.01771308\n",
      "Iteration 16, loss = 0.01540502\n",
      "Iteration 17, loss = 0.01371870\n",
      "Iteration 18, loss = 0.01208793\n",
      "Iteration 19, loss = 0.01074735\n",
      "Iteration 20, loss = 0.00959414\n",
      "Iteration 21, loss = 0.00867054\n",
      "Iteration 22, loss = 0.00788698\n",
      "Iteration 23, loss = 0.00718664\n",
      "Iteration 24, loss = 0.00654074\n",
      "Iteration 25, loss = 0.00607561\n",
      "Iteration 26, loss = 0.00569668\n",
      "Iteration 27, loss = 0.00531339\n",
      "Iteration 28, loss = 0.00496804\n",
      "Iteration 29, loss = 0.00469407\n",
      "Iteration 30, loss = 0.00447605\n",
      "Iteration 31, loss = 0.00421949\n",
      "Iteration 32, loss = 0.00399904\n",
      "Iteration 33, loss = 0.00380009\n",
      "Iteration 34, loss = 0.00364856\n",
      "Iteration 35, loss = 0.00349832\n",
      "Iteration 36, loss = 0.00336252\n",
      "Iteration 37, loss = 0.00321083\n",
      "Iteration 38, loss = 0.00309771\n",
      "Iteration 39, loss = 0.00298252\n",
      "Iteration 40, loss = 0.00287651\n",
      "Iteration 41, loss = 0.00277156\n",
      "Iteration 42, loss = 0.00269433\n",
      "Iteration 43, loss = 0.00260842\n",
      "Iteration 44, loss = 0.00253055\n",
      "Iteration 45, loss = 0.00246059\n",
      "Iteration 46, loss = 0.00238786\n",
      "Iteration 47, loss = 0.00232884\n",
      "Iteration 48, loss = 0.00226412\n",
      "Iteration 49, loss = 0.00221385\n",
      "Iteration 50, loss = 0.00214859\n",
      "Iteration 51, loss = 0.00210647\n",
      "Iteration 52, loss = 0.00205607\n",
      "Iteration 53, loss = 0.00200767\n",
      "Iteration 54, loss = 0.00196707\n",
      "Iteration 55, loss = 0.00192063\n",
      "Iteration 56, loss = 0.00187796\n",
      "Iteration 57, loss = 0.00184566\n",
      "Iteration 58, loss = 0.00181150\n",
      "Iteration 59, loss = 0.00177070\n",
      "Iteration 60, loss = 0.00174437\n",
      "Iteration 61, loss = 0.00171246\n",
      "Iteration 62, loss = 0.00167956\n",
      "Iteration 63, loss = 0.00165119\n",
      "Iteration 64, loss = 0.00162568\n",
      "Iteration 65, loss = 0.00159609\n",
      "Iteration 66, loss = 0.00157528\n",
      "Iteration 67, loss = 0.00154641\n",
      "Iteration 68, loss = 0.00152429\n",
      "Iteration 69, loss = 0.00150139\n",
      "Iteration 70, loss = 0.00147842\n",
      "Iteration 71, loss = 0.00146249\n",
      "Iteration 72, loss = 0.00143790\n",
      "Iteration 73, loss = 0.00141679\n",
      "Iteration 74, loss = 0.00139886\n",
      "Iteration 75, loss = 0.00138125\n",
      "Iteration 76, loss = 0.00136580\n",
      "Iteration 77, loss = 0.00135006\n",
      "Iteration 78, loss = 0.00133141\n",
      "Iteration 79, loss = 0.00131371\n",
      "Iteration 80, loss = 0.00130072\n",
      "Iteration 81, loss = 0.00128215\n",
      "Iteration 82, loss = 0.00126940\n",
      "Iteration 83, loss = 0.00125549\n",
      "Iteration 84, loss = 0.00124272\n",
      "Iteration 85, loss = 0.00122583\n",
      "Iteration 86, loss = 0.00121466\n",
      "Iteration 87, loss = 0.00120368\n",
      "Iteration 88, loss = 0.00119098\n",
      "Iteration 89, loss = 0.00117920\n",
      "Iteration 90, loss = 0.00116726\n",
      "Iteration 91, loss = 0.00115741\n",
      "Iteration 92, loss = 0.00114393\n",
      "Iteration 93, loss = 0.00113362\n",
      "Iteration 94, loss = 0.00112374\n",
      "Iteration 95, loss = 0.00111610\n",
      "Iteration 96, loss = 0.00110462\n",
      "Iteration 97, loss = 0.00109603\n",
      "Iteration 98, loss = 0.00108648\n",
      "Iteration 99, loss = 0.00107738\n",
      "Training loss did not improve more than tol=0.000010 for two consecutive epochs. Stopping.\n",
      "Iteration 1, loss = 0.35780066\n",
      "Iteration 2, loss = 0.18061803\n",
      "Iteration 3, loss = 0.13336030\n",
      "Iteration 4, loss = 0.10549258\n",
      "Iteration 5, loss = 0.08673164\n",
      "Iteration 6, loss = 0.07207143\n",
      "Iteration 7, loss = 0.05967953\n",
      "Iteration 8, loss = 0.05181613\n",
      "Iteration 9, loss = 0.04377719\n",
      "Iteration 10, loss = 0.03698023\n",
      "Iteration 11, loss = 0.03174469\n",
      "Iteration 12, loss = 0.02738699\n",
      "Iteration 13, loss = 0.02388163\n",
      "Iteration 14, loss = 0.02016107\n",
      "Iteration 15, loss = 0.01771590\n",
      "Iteration 16, loss = 0.01552807\n",
      "Iteration 17, loss = 0.01353434\n",
      "Iteration 18, loss = 0.01200362\n",
      "Iteration 19, loss = 0.01060025\n",
      "Iteration 20, loss = 0.00955041\n",
      "Iteration 21, loss = 0.00855480\n",
      "Iteration 22, loss = 0.00787099\n",
      "Iteration 23, loss = 0.00709985\n",
      "Iteration 24, loss = 0.00664545\n",
      "Iteration 25, loss = 0.00606406\n",
      "Iteration 26, loss = 0.00567193\n",
      "Iteration 27, loss = 0.00530114\n",
      "Iteration 28, loss = 0.00495365\n",
      "Iteration 29, loss = 0.00471555\n",
      "Iteration 30, loss = 0.00441569\n",
      "Iteration 31, loss = 0.00416676\n",
      "Iteration 32, loss = 0.00397835\n",
      "Iteration 33, loss = 0.00381848\n",
      "Iteration 34, loss = 0.00362758\n",
      "Iteration 35, loss = 0.00347950\n",
      "Iteration 36, loss = 0.00331996\n",
      "Iteration 37, loss = 0.00319403\n",
      "Iteration 38, loss = 0.00308654\n",
      "Iteration 39, loss = 0.00295621\n",
      "Iteration 40, loss = 0.00287371\n",
      "Iteration 41, loss = 0.00278151\n",
      "Iteration 42, loss = 0.00266890\n",
      "Iteration 43, loss = 0.00261033\n",
      "Iteration 44, loss = 0.00250446\n",
      "Iteration 45, loss = 0.00244380\n",
      "Iteration 46, loss = 0.00237958\n",
      "Iteration 47, loss = 0.00231033\n",
      "Iteration 48, loss = 0.00226423\n",
      "Iteration 49, loss = 0.00219622\n"
     ]
    },
    {
     "name": "stdout",
     "output_type": "stream",
     "text": [
      "Iteration 50, loss = 0.00213771\n",
      "Iteration 51, loss = 0.00208917\n",
      "Iteration 52, loss = 0.00204032\n",
      "Iteration 53, loss = 0.00200173\n",
      "Iteration 54, loss = 0.00196072\n",
      "Iteration 55, loss = 0.00191376\n",
      "Iteration 56, loss = 0.00187170\n",
      "Iteration 57, loss = 0.00184737\n",
      "Iteration 58, loss = 0.00180108\n",
      "Iteration 59, loss = 0.00177229\n",
      "Iteration 60, loss = 0.00173929\n",
      "Iteration 61, loss = 0.00170386\n",
      "Iteration 62, loss = 0.00167811\n",
      "Iteration 63, loss = 0.00164815\n",
      "Iteration 64, loss = 0.00161944\n",
      "Iteration 65, loss = 0.00159057\n",
      "Iteration 66, loss = 0.00156545\n",
      "Iteration 67, loss = 0.00154443\n",
      "Iteration 68, loss = 0.00152200\n",
      "Iteration 69, loss = 0.00149521\n",
      "Iteration 70, loss = 0.00147625\n",
      "Iteration 71, loss = 0.00145930\n",
      "Iteration 72, loss = 0.00143764\n",
      "Iteration 73, loss = 0.00141622\n",
      "Iteration 74, loss = 0.00139568\n",
      "Iteration 75, loss = 0.00137882\n",
      "Iteration 76, loss = 0.00135943\n",
      "Iteration 77, loss = 0.00134468\n",
      "Iteration 78, loss = 0.00132575\n",
      "Iteration 79, loss = 0.00131290\n",
      "Iteration 80, loss = 0.00129581\n",
      "Iteration 81, loss = 0.00128052\n",
      "Iteration 82, loss = 0.00126624\n",
      "Iteration 83, loss = 0.00125041\n",
      "Iteration 84, loss = 0.00124178\n",
      "Iteration 85, loss = 0.00122366\n",
      "Iteration 86, loss = 0.00121295\n",
      "Iteration 87, loss = 0.00119896\n",
      "Iteration 88, loss = 0.00118814\n",
      "Iteration 89, loss = 0.00117808\n",
      "Iteration 90, loss = 0.00116546\n",
      "Iteration 91, loss = 0.00115273\n",
      "Iteration 92, loss = 0.00114584\n",
      "Iteration 93, loss = 0.00113297\n",
      "Iteration 94, loss = 0.00112248\n",
      "Iteration 95, loss = 0.00111285\n",
      "Iteration 96, loss = 0.00110364\n",
      "Iteration 97, loss = 0.00109434\n",
      "Training loss did not improve more than tol=0.000010 for two consecutive epochs. Stopping.\n"
     ]
    },
    {
     "data": {
      "text/plain": [
       "0.97230352422234478"
      ]
     },
     "execution_count": 49,
     "metadata": {},
     "output_type": "execute_result"
    }
   ],
   "source": [
    "print('Validação cruzada do treinamento sem a utilização do PCA')\n",
    "scores = cross_val_score(mlp,X_train,y_train)\n",
    "np.mean(scores)"
   ]
  },
  {
   "cell_type": "code",
   "execution_count": 50,
   "metadata": {},
   "outputs": [
    {
     "data": {
      "text/plain": [
       "0.97585714285714287"
      ]
     },
     "execution_count": 50,
     "metadata": {},
     "output_type": "execute_result"
    }
   ],
   "source": [
    "metrics.accuracy_score(y_test,y_pred)"
   ]
  },
  {
   "cell_type": "code",
   "execution_count": 51,
   "metadata": {
    "scrolled": true
   },
   "outputs": [
    {
     "name": "stdout",
     "output_type": "stream",
     "text": [
      "Validação cruzada do treinamento utilizando PCA para fazer o redimencionamento das imagens\n",
      "Iteration 1, loss = 0.52776568\n",
      "Iteration 2, loss = 0.33775235\n",
      "Iteration 3, loss = 0.25645380\n",
      "Iteration 4, loss = 0.21202017\n",
      "Iteration 5, loss = 0.18559166\n",
      "Iteration 6, loss = 0.16782606\n",
      "Iteration 7, loss = 0.15566921\n",
      "Iteration 8, loss = 0.14525291\n",
      "Iteration 9, loss = 0.13775549\n",
      "Iteration 10, loss = 0.13123760\n",
      "Iteration 11, loss = 0.12489411\n",
      "Iteration 12, loss = 0.12059306\n",
      "Iteration 13, loss = 0.11659855\n",
      "Iteration 14, loss = 0.11407488\n",
      "Iteration 15, loss = 0.11033524\n",
      "Iteration 16, loss = 0.10772699\n",
      "Iteration 17, loss = 0.10404612\n",
      "Iteration 18, loss = 0.10135042\n",
      "Iteration 19, loss = 0.09945791\n",
      "Iteration 20, loss = 0.09677847\n",
      "Iteration 21, loss = 0.09511981\n",
      "Iteration 22, loss = 0.09384707\n",
      "Iteration 23, loss = 0.09181707\n",
      "Iteration 24, loss = 0.09014078\n",
      "Iteration 25, loss = 0.08881886\n",
      "Iteration 26, loss = 0.08734575\n",
      "Iteration 27, loss = 0.08512577\n",
      "Iteration 28, loss = 0.08467688\n",
      "Iteration 29, loss = 0.08276047\n",
      "Iteration 30, loss = 0.08228798\n",
      "Iteration 31, loss = 0.08076686\n",
      "Iteration 32, loss = 0.07988104\n",
      "Iteration 33, loss = 0.07880243\n",
      "Iteration 34, loss = 0.07763887\n",
      "Iteration 35, loss = 0.07664744\n",
      "Iteration 36, loss = 0.07627550\n",
      "Iteration 37, loss = 0.07533311\n",
      "Iteration 38, loss = 0.07417224\n",
      "Iteration 39, loss = 0.07317433\n",
      "Iteration 40, loss = 0.07249408\n",
      "Iteration 41, loss = 0.07197111\n",
      "Iteration 42, loss = 0.07185138\n",
      "Iteration 43, loss = 0.07167160\n",
      "Iteration 44, loss = 0.06991171\n",
      "Iteration 45, loss = 0.06973984\n",
      "Iteration 46, loss = 0.06907929\n",
      "Iteration 47, loss = 0.06852273\n",
      "Iteration 48, loss = 0.06854271\n",
      "Iteration 49, loss = 0.06760475\n",
      "Iteration 50, loss = 0.06764135\n",
      "Iteration 51, loss = 0.06720274\n",
      "Iteration 52, loss = 0.06654116\n",
      "Iteration 53, loss = 0.06644623\n",
      "Iteration 54, loss = 0.06499698\n",
      "Iteration 55, loss = 0.06526637\n",
      "Iteration 56, loss = 0.06486096\n",
      "Iteration 57, loss = 0.06389602\n",
      "Iteration 58, loss = 0.06393133\n",
      "Iteration 59, loss = 0.06418318\n",
      "Iteration 60, loss = 0.06367871\n",
      "Iteration 61, loss = 0.06244334\n",
      "Iteration 62, loss = 0.06276641\n",
      "Iteration 63, loss = 0.06228096\n",
      "Iteration 64, loss = 0.06191428\n",
      "Iteration 65, loss = 0.06141333\n",
      "Iteration 66, loss = 0.06159486\n",
      "Iteration 67, loss = 0.06100709\n",
      "Iteration 68, loss = 0.06016813\n",
      "Iteration 69, loss = 0.06044817\n",
      "Iteration 70, loss = 0.06014668\n",
      "Iteration 71, loss = 0.05922312\n",
      "Iteration 72, loss = 0.05901815\n",
      "Iteration 73, loss = 0.05899862\n",
      "Iteration 74, loss = 0.05835072\n",
      "Iteration 75, loss = 0.05822226\n",
      "Iteration 76, loss = 0.05809006\n",
      "Iteration 77, loss = 0.05743533\n",
      "Iteration 78, loss = 0.05739935\n",
      "Iteration 79, loss = 0.05724623\n",
      "Iteration 80, loss = 0.05683705\n",
      "Iteration 81, loss = 0.05660556\n",
      "Iteration 82, loss = 0.05620738\n",
      "Iteration 83, loss = 0.05579762\n",
      "Iteration 84, loss = 0.05571012\n",
      "Iteration 85, loss = 0.05560585\n",
      "Iteration 86, loss = 0.05532491\n",
      "Iteration 87, loss = 0.05535950\n",
      "Iteration 88, loss = 0.05498651\n",
      "Iteration 89, loss = 0.05521707\n",
      "Iteration 90, loss = 0.05404242\n",
      "Iteration 91, loss = 0.05446757\n",
      "Iteration 92, loss = 0.05400567\n",
      "Iteration 93, loss = 0.05393673\n",
      "Iteration 94, loss = 0.05381012\n",
      "Iteration 95, loss = 0.05381634\n",
      "Iteration 96, loss = 0.05258443\n",
      "Iteration 97, loss = 0.05284082\n",
      "Iteration 98, loss = 0.05305906\n",
      "Iteration 99, loss = 0.05251494\n",
      "Iteration 100, loss = 0.05233456\n",
      "Iteration 101, loss = 0.05175248\n",
      "Iteration 102, loss = 0.05215203\n",
      "Iteration 103, loss = 0.05223942\n",
      "Iteration 104, loss = 0.05160019\n",
      "Iteration 105, loss = 0.05246445\n",
      "Iteration 106, loss = 0.05174976\n",
      "Iteration 107, loss = 0.05114093\n",
      "Iteration 108, loss = 0.05057119\n",
      "Iteration 109, loss = 0.05117855\n",
      "Iteration 110, loss = 0.05051412\n",
      "Iteration 111, loss = 0.05035691\n",
      "Iteration 112, loss = 0.04984867\n",
      "Iteration 113, loss = 0.05063330\n",
      "Iteration 114, loss = 0.04935320\n",
      "Iteration 115, loss = 0.04926235\n",
      "Iteration 116, loss = 0.04923395\n",
      "Iteration 117, loss = 0.04894366\n",
      "Iteration 118, loss = 0.04951523\n",
      "Iteration 119, loss = 0.04927097\n",
      "Iteration 120, loss = 0.04870288\n",
      "Iteration 121, loss = 0.04852260\n",
      "Iteration 122, loss = 0.04891253\n",
      "Iteration 123, loss = 0.04825611\n",
      "Iteration 124, loss = 0.04819572\n",
      "Iteration 125, loss = 0.04816228\n",
      "Iteration 126, loss = 0.04845323\n",
      "Iteration 127, loss = 0.04774566\n",
      "Iteration 128, loss = 0.04832927\n",
      "Iteration 129, loss = 0.04741328\n",
      "Iteration 130, loss = 0.04716386\n",
      "Iteration 131, loss = 0.04781602\n",
      "Iteration 132, loss = 0.04693715\n",
      "Iteration 133, loss = 0.04686822\n",
      "Iteration 134, loss = 0.04739479\n",
      "Iteration 135, loss = 0.04646954\n",
      "Iteration 136, loss = 0.04652574\n",
      "Iteration 137, loss = 0.04632628\n",
      "Iteration 138, loss = 0.04640388\n",
      "Iteration 139, loss = 0.04585322\n",
      "Iteration 140, loss = 0.04608675\n",
      "Iteration 141, loss = 0.04621276\n",
      "Iteration 142, loss = 0.04619916\n",
      "Training loss did not improve more than tol=0.000010 for two consecutive epochs. Stopping.\n",
      "Iteration 1, loss = 0.52929975\n",
      "Iteration 2, loss = 0.33442930\n",
      "Iteration 3, loss = 0.25258952\n",
      "Iteration 4, loss = 0.20951386\n",
      "Iteration 5, loss = 0.18537932\n",
      "Iteration 6, loss = 0.16720851\n",
      "Iteration 7, loss = 0.15557964\n",
      "Iteration 8, loss = 0.14663720\n",
      "Iteration 9, loss = 0.13919734\n",
      "Iteration 10, loss = 0.13209628\n",
      "Iteration 11, loss = 0.12624105\n",
      "Iteration 12, loss = 0.12183240\n",
      "Iteration 13, loss = 0.11775347\n",
      "Iteration 14, loss = 0.11443455\n",
      "Iteration 15, loss = 0.11043990\n",
      "Iteration 16, loss = 0.10751830\n",
      "Iteration 17, loss = 0.10500831\n",
      "Iteration 18, loss = 0.10183158\n",
      "Iteration 19, loss = 0.09948819\n",
      "Iteration 20, loss = 0.09813930\n",
      "Iteration 21, loss = 0.09559976\n",
      "Iteration 22, loss = 0.09463968\n",
      "Iteration 23, loss = 0.09228713\n",
      "Iteration 24, loss = 0.09113707\n",
      "Iteration 25, loss = 0.09012205\n",
      "Iteration 26, loss = 0.08849890\n",
      "Iteration 27, loss = 0.08698098\n",
      "Iteration 28, loss = 0.08623022\n",
      "Iteration 29, loss = 0.08407918\n",
      "Iteration 30, loss = 0.08365124\n",
      "Iteration 31, loss = 0.08167215\n",
      "Iteration 32, loss = 0.08153371\n",
      "Iteration 33, loss = 0.08042722\n",
      "Iteration 34, loss = 0.07983708\n",
      "Iteration 35, loss = 0.07881239\n",
      "Iteration 36, loss = 0.07741981\n",
      "Iteration 37, loss = 0.07724514\n",
      "Iteration 38, loss = 0.07630228\n",
      "Iteration 39, loss = 0.07578337\n",
      "Iteration 40, loss = 0.07449321\n",
      "Iteration 41, loss = 0.07432126\n",
      "Iteration 42, loss = 0.07345031\n",
      "Iteration 43, loss = 0.07301750\n",
      "Iteration 44, loss = 0.07171690\n",
      "Iteration 45, loss = 0.07145870\n",
      "Iteration 46, loss = 0.07127919\n",
      "Iteration 47, loss = 0.07006345\n",
      "Iteration 48, loss = 0.06904600\n",
      "Iteration 49, loss = 0.06897226\n",
      "Iteration 50, loss = 0.06840400\n",
      "Iteration 51, loss = 0.06813392\n",
      "Iteration 52, loss = 0.06710760\n",
      "Iteration 53, loss = 0.06668814\n",
      "Iteration 54, loss = 0.06669669\n",
      "Iteration 55, loss = 0.06609400\n",
      "Iteration 56, loss = 0.06569139\n",
      "Iteration 57, loss = 0.06450634\n",
      "Iteration 58, loss = 0.06496885\n",
      "Iteration 59, loss = 0.06424255\n",
      "Iteration 60, loss = 0.06430546\n",
      "Iteration 61, loss = 0.06375490\n",
      "Iteration 62, loss = 0.06299787\n",
      "Iteration 63, loss = 0.06289598\n",
      "Iteration 64, loss = 0.06221168\n",
      "Iteration 65, loss = 0.06196446\n",
      "Iteration 66, loss = 0.06214216\n",
      "Iteration 67, loss = 0.06143442\n",
      "Iteration 68, loss = 0.06093881\n",
      "Iteration 69, loss = 0.06024042\n",
      "Iteration 70, loss = 0.06025731\n",
      "Iteration 71, loss = 0.05977575\n",
      "Iteration 72, loss = 0.05961906\n",
      "Iteration 73, loss = 0.05987557\n",
      "Iteration 74, loss = 0.05922683\n",
      "Iteration 75, loss = 0.05913273\n",
      "Iteration 76, loss = 0.05887692\n",
      "Iteration 77, loss = 0.05777616\n",
      "Iteration 78, loss = 0.05786350\n",
      "Iteration 79, loss = 0.05765830\n",
      "Iteration 80, loss = 0.05802535\n",
      "Iteration 81, loss = 0.05674158\n",
      "Iteration 82, loss = 0.05695655\n",
      "Iteration 83, loss = 0.05694518\n",
      "Iteration 84, loss = 0.05709511\n",
      "Training loss did not improve more than tol=0.000010 for two consecutive epochs. Stopping.\n",
      "Iteration 1, loss = 0.52752432\n",
      "Iteration 2, loss = 0.33517423\n",
      "Iteration 3, loss = 0.25334822\n",
      "Iteration 4, loss = 0.21025323\n",
      "Iteration 5, loss = 0.18568014\n",
      "Iteration 6, loss = 0.16813310\n",
      "Iteration 7, loss = 0.15494459\n",
      "Iteration 8, loss = 0.14514776\n",
      "Iteration 9, loss = 0.13762106\n",
      "Iteration 10, loss = 0.13119926\n",
      "Iteration 11, loss = 0.12620743\n",
      "Iteration 12, loss = 0.12049079\n",
      "Iteration 13, loss = 0.11718357\n",
      "Iteration 14, loss = 0.11305661\n",
      "Iteration 15, loss = 0.11001912\n",
      "Iteration 16, loss = 0.10694718\n",
      "Iteration 17, loss = 0.10345627\n",
      "Iteration 18, loss = 0.10113996\n",
      "Iteration 19, loss = 0.09998665\n",
      "Iteration 20, loss = 0.09636968\n",
      "Iteration 21, loss = 0.09503447\n"
     ]
    },
    {
     "name": "stdout",
     "output_type": "stream",
     "text": [
      "Iteration 22, loss = 0.09332596\n",
      "Iteration 23, loss = 0.09143669\n",
      "Iteration 24, loss = 0.08936949\n",
      "Iteration 25, loss = 0.08741458\n",
      "Iteration 26, loss = 0.08651237\n",
      "Iteration 27, loss = 0.08544186\n",
      "Iteration 28, loss = 0.08344568\n",
      "Iteration 29, loss = 0.08292403\n",
      "Iteration 30, loss = 0.08104038\n",
      "Iteration 31, loss = 0.08087515\n",
      "Iteration 32, loss = 0.07942416\n",
      "Iteration 33, loss = 0.07898207\n",
      "Iteration 34, loss = 0.07791143\n",
      "Iteration 35, loss = 0.07669972\n",
      "Iteration 36, loss = 0.07604529\n",
      "Iteration 37, loss = 0.07537275\n",
      "Iteration 38, loss = 0.07425266\n",
      "Iteration 39, loss = 0.07325537\n",
      "Iteration 40, loss = 0.07278021\n",
      "Iteration 41, loss = 0.07207353\n",
      "Iteration 42, loss = 0.07153561\n",
      "Iteration 43, loss = 0.07032840\n",
      "Iteration 44, loss = 0.07018182\n",
      "Iteration 45, loss = 0.06922500\n",
      "Iteration 46, loss = 0.06875317\n",
      "Iteration 47, loss = 0.06833862\n",
      "Iteration 48, loss = 0.06814342\n",
      "Iteration 49, loss = 0.06713954\n",
      "Iteration 50, loss = 0.06646555\n",
      "Iteration 51, loss = 0.06624222\n",
      "Iteration 52, loss = 0.06605816\n",
      "Iteration 53, loss = 0.06548428\n",
      "Iteration 54, loss = 0.06445748\n",
      "Iteration 55, loss = 0.06445061\n",
      "Iteration 56, loss = 0.06385228\n",
      "Iteration 57, loss = 0.06332542\n",
      "Iteration 58, loss = 0.06315581\n",
      "Iteration 59, loss = 0.06273792\n",
      "Iteration 60, loss = 0.06263250\n",
      "Iteration 61, loss = 0.06204281\n",
      "Iteration 62, loss = 0.06204735\n",
      "Iteration 63, loss = 0.06114686\n",
      "Iteration 64, loss = 0.06079327\n",
      "Iteration 65, loss = 0.06039089\n",
      "Iteration 66, loss = 0.06044092\n",
      "Iteration 67, loss = 0.05986894\n",
      "Iteration 68, loss = 0.05941417\n",
      "Iteration 69, loss = 0.05869310\n",
      "Iteration 70, loss = 0.05897724\n",
      "Iteration 71, loss = 0.05871974\n",
      "Iteration 72, loss = 0.05844424\n",
      "Iteration 73, loss = 0.05807803\n",
      "Iteration 74, loss = 0.05776720\n",
      "Iteration 75, loss = 0.05740787\n",
      "Iteration 76, loss = 0.05752370\n",
      "Iteration 77, loss = 0.05688549\n",
      "Iteration 78, loss = 0.05694903\n",
      "Iteration 79, loss = 0.05667932\n",
      "Iteration 80, loss = 0.05628340\n",
      "Iteration 81, loss = 0.05642756\n",
      "Iteration 82, loss = 0.05626258\n",
      "Iteration 83, loss = 0.05561783\n",
      "Iteration 84, loss = 0.05485933\n",
      "Iteration 85, loss = 0.05450170\n",
      "Iteration 86, loss = 0.05516589\n",
      "Iteration 87, loss = 0.05445581\n",
      "Iteration 88, loss = 0.05428328\n",
      "Iteration 89, loss = 0.05436109\n",
      "Iteration 90, loss = 0.05390351\n",
      "Iteration 91, loss = 0.05324611\n",
      "Iteration 92, loss = 0.05336549\n",
      "Iteration 93, loss = 0.05339047\n",
      "Iteration 94, loss = 0.05236605\n",
      "Iteration 95, loss = 0.05345423\n",
      "Iteration 96, loss = 0.05257472\n",
      "Iteration 97, loss = 0.05245492\n",
      "Training loss did not improve more than tol=0.000010 for two consecutive epochs. Stopping.\n"
     ]
    },
    {
     "data": {
      "text/plain": [
       "0.95401794874220303"
      ]
     },
     "execution_count": 51,
     "metadata": {},
     "output_type": "execute_result"
    }
   ],
   "source": [
    "print('Validação cruzada do treinamento utilizando PCA para fazer o redimencionamento das imagens')\n",
    "scores = cross_val_score(mlp,X_train_pca,y_train)\n",
    "np.mean(scores)"
   ]
  },
  {
   "cell_type": "code",
   "execution_count": 52,
   "metadata": {},
   "outputs": [
    {
     "data": {
      "text/plain": [
       "0.95871428571428574"
      ]
     },
     "execution_count": 52,
     "metadata": {},
     "output_type": "execute_result"
    }
   ],
   "source": [
    "metrics.accuracy_score(y_test,y_pred_pca)"
   ]
  },
  {
   "cell_type": "code",
   "execution_count": 53,
   "metadata": {},
   "outputs": [
    {
     "data": {
      "text/plain": [
       "array([ 9.,  7.,  7.,  5.,  3.,  1.,  1.,  1.,  9.,  5.,  3.,  5.,  6.,\n",
       "        9.,  6.,  8.,  3.,  0.,  3.,  4.,  6.,  3.,  5.,  8.,  3.,  4.,\n",
       "        1.,  3.,  6.,  2.,  3.,  1.,  9.,  3.,  8.,  3.,  7.,  0.,  5.,\n",
       "        8.,  4.,  0.,  5.,  3.,  0.,  5.,  2.,  3.,  8.,  7.])"
      ]
     },
     "execution_count": 53,
     "metadata": {},
     "output_type": "execute_result"
    }
   ],
   "source": [
    "y_pred_pca[:50]"
   ]
  },
  {
   "cell_type": "code",
   "execution_count": 54,
   "metadata": {},
   "outputs": [
    {
     "data": {
      "text/plain": [
       "array([ 9.,  7.,  7.,  5.,  3.,  1.,  1.,  1.,  9.,  5.,  3.,  5.,  6.,\n",
       "        9.,  6.,  8.,  3.,  0.,  8.,  4.,  6.,  3.,  5.,  8.,  3.,  4.,\n",
       "        1.,  3.,  6.,  2.,  3.,  1.,  9.,  3.,  8.,  3.,  7.,  0.,  5.,\n",
       "        8.,  4.,  0.,  5.,  3.,  0.,  5.,  2.,  3.,  8.,  7.])"
      ]
     },
     "execution_count": 54,
     "metadata": {},
     "output_type": "execute_result"
    }
   ],
   "source": [
    "y_pred[:50]"
   ]
  },
  {
   "cell_type": "code",
   "execution_count": 55,
   "metadata": {},
   "outputs": [
    {
     "data": {
      "text/plain": [
       "array([ 9.,  7.,  7.,  5.,  3.,  1.,  1.,  1.,  9.,  5.,  3.,  5.,  6.,\n",
       "        9.,  6.,  8.,  3.,  0.,  8.,  4.,  6.,  3.,  5.,  8.,  3.,  4.,\n",
       "        1.,  3.,  6.,  2.,  3.,  1.,  9.,  3.,  8.,  3.,  7.,  0.,  5.,\n",
       "        8.,  4.,  0.,  5.,  3.,  0.,  5.,  2.,  3.,  8.,  7.])"
      ]
     },
     "execution_count": 55,
     "metadata": {},
     "output_type": "execute_result"
    }
   ],
   "source": [
    "y_test[:50]"
   ]
  },
  {
   "cell_type": "markdown",
   "metadata": {},
   "source": [
    "# Treinamento utilizando o modelo MLPClassifier com outros parametros"
   ]
  },
  {
   "cell_type": "code",
   "execution_count": 56,
   "metadata": {
    "collapsed": true
   },
   "outputs": [],
   "source": [
    "mlp2 = MLPClassifier(hidden_layer_sizes=(89,), activation='relu', max_iter=1000, alpha=1e-4,\n",
    "                    solver='lbfgs', verbose=10, tol=1e-5, random_state=1,\n",
    "                    learning_rate_init=.1)"
   ]
  },
  {
   "cell_type": "code",
   "execution_count": 57,
   "metadata": {},
   "outputs": [
    {
     "name": "stdout",
     "output_type": "stream",
     "text": [
      "Training set score WITH pca: 0.988482\n",
      "Test set score WITH pca: 0.958571\n"
     ]
    }
   ],
   "source": [
    "mlp2.fit(X_train_pca, y_train)\n",
    "y_pred_pca2 = mlp2.predict(X_test_pca)\n",
    "print(\"Training set score WITH pca: %f\" % mlp2.score(X_train_pca, y_train))\n",
    "print(\"Test set score WITH pca: %f\" % mlp2.score(X_test_pca, y_test))"
   ]
  },
  {
   "cell_type": "markdown",
   "metadata": {},
   "source": [
    "# Avaliação"
   ]
  },
  {
   "cell_type": "code",
   "execution_count": 58,
   "metadata": {},
   "outputs": [
    {
     "name": "stdout",
     "output_type": "stream",
     "text": [
      "Classification Report using pca\n",
      "             precision    recall  f1-score   support\n",
      "\n",
      "          0       0.98      0.98      0.98      1403\n",
      "          1       0.98      0.99      0.98      1574\n",
      "          2       0.95      0.96      0.95      1361\n",
      "          3       0.96      0.93      0.94      1454\n",
      "          4       0.96      0.96      0.96      1326\n",
      "          5       0.95      0.96      0.95      1255\n",
      "          6       0.97      0.98      0.98      1371\n",
      "          7       0.96      0.95      0.96      1464\n",
      "          8       0.93      0.95      0.94      1351\n",
      "          9       0.93      0.93      0.93      1441\n",
      "\n",
      "avg / total       0.96      0.96      0.96     14000\n",
      "\n"
     ]
    }
   ],
   "source": [
    "print('Classification Report using pca')\n",
    "print(classification_report(y_test, y_pred_pca2, target_names=target_names))"
   ]
  },
  {
   "cell_type": "markdown",
   "metadata": {},
   "source": [
    "# Validação Cruzada"
   ]
  },
  {
   "cell_type": "code",
   "execution_count": 40,
   "metadata": {},
   "outputs": [
    {
     "name": "stdout",
     "output_type": "stream",
     "text": [
      "Validação cruzada do treinamento com a utilização do PCA\n"
     ]
    },
    {
     "data": {
      "text/plain": [
       "0.94712504337654424"
      ]
     },
     "execution_count": 40,
     "metadata": {},
     "output_type": "execute_result"
    }
   ],
   "source": [
    "print('Validação cruzada do treinamento com a utilização do PCA')\n",
    "scores = cross_val_score(mlp2,X_train_pca,y_train)\n",
    "np.mean(scores)"
   ]
  },
  {
   "cell_type": "code",
   "execution_count": 59,
   "metadata": {},
   "outputs": [
    {
     "data": {
      "text/plain": [
       "0.95857142857142852"
      ]
     },
     "execution_count": 59,
     "metadata": {},
     "output_type": "execute_result"
    }
   ],
   "source": [
    "metrics.accuracy_score(y_test,y_pred_pca2)"
   ]
  },
  {
   "cell_type": "code",
   "execution_count": null,
   "metadata": {
    "collapsed": true
   },
   "outputs": [],
   "source": []
  }
 ],
 "metadata": {
  "kernelspec": {
   "display_name": "Python 3",
   "language": "python",
   "name": "python3"
  },
  "language_info": {
   "codemirror_mode": {
    "name": "ipython",
    "version": 3
   },
   "file_extension": ".py",
   "mimetype": "text/x-python",
   "name": "python",
   "nbconvert_exporter": "python",
   "pygments_lexer": "ipython3",
   "version": "3.6.3"
  }
 },
 "nbformat": 4,
 "nbformat_minor": 2
}
