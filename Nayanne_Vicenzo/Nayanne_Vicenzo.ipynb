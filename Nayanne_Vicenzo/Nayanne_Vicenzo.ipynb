{
 "cells": [
  {
   "cell_type": "markdown",
   "metadata": {},
   "source": [
    "# Dataset"
   ]
  },
  {
   "cell_type": "markdown",
   "metadata": {},
   "source": [
    "## 116 imagens de pacientes com e sem osteoporose"
   ]
  },
  {
   "cell_type": "markdown",
   "metadata": {},
   "source": [
    "![title](Capture.PNG)"
   ]
  },
  {
   "cell_type": "markdown",
   "metadata": {},
   "source": [
    "# 1. Predição baseada em features"
   ]
  },
  {
   "cell_type": "markdown",
   "metadata": {},
   "source": [
    "## 1.1 Pré-processamento"
   ]
  },
  {
   "cell_type": "code",
   "execution_count": null,
   "metadata": {},
   "outputs": [],
   "source": [
    "def descrever(nomeDoCSV, imClass, data):\n",
    "    csv_file = open(nomeDoCSV, 'wb')\n",
    "    writer = csv.writer(csv_file)\n",
    "    i = 0\n",
    "    writer.writerow([\"Mean\", \"Variance\", \"Skewness\", \"Kurtosis\"])\n",
    "\n",
    "    # Se a imagem for colorida, converter para cinza\n",
    "    for image in imClass:\n",
    "        image = color.rgb2gray(image)\n",
    "        # Estatística\n",
    "        stats = describe(image, axis=None)\n",
    "        # Resultado\n",
    "        writer.writerow([stats.mean, stats.variance, stats.skewness, stats.kurtosis])\n",
    "        data.append([stats.mean, stats.variance, stats.skewness, stats.kurtosis])\n",
    "        i = i + 1"
   ]
  },
  {
   "cell_type": "markdown",
   "metadata": {},
   "source": [
    "## 1.2 Processamento"
   ]
  },
  {
   "cell_type": "code",
   "execution_count": null,
   "metadata": {},
   "outputs": [],
   "source": [
    "def avaliar(avaliador, hDataTrain, hTargetTrain, hDataEval, hTargetEval):\n",
    "    clf = MLPClassifier(solver=avaliador, alpha=1e-5, random_state=1)\n",
    "\n",
    "    clf.fit(hDataTrain, hTargetTrain)\n",
    "\n",
    "    predito = clf.predict(hDataEval)\n",
    "    print(\"Resultado: \" + str(np.mean(predito == hTargetEval)))\n",
    "\n",
    "    scores = cross_val_score(clf, hDataEval, hTargetEval, cv = 5, verbose = 0, scoring='accuracy')\n",
    "    print(\"Validacao cruzada: \" + str(np.mean(scores)))"
   ]
  },
  {
   "cell_type": "markdown",
   "metadata": {},
   "source": [
    "## 1.3 Resultado"
   ]
  },
  {
   "cell_type": "markdown",
   "metadata": {},
   "source": [
    "### 1.3.1: lbfgs - Validação cruzada: 0.5"
   ]
  },
  {
   "cell_type": "markdown",
   "metadata": {},
   "source": [
    "### 1.3.2: sgd - Validação cruzada: 0.5"
   ]
  },
  {
   "cell_type": "markdown",
   "metadata": {},
   "source": [
    "### 1.3.3: adam - Validação cruzada: 0.5"
   ]
  },
  {
   "cell_type": "markdown",
   "metadata": {},
   "source": [
    "# 2. Redução de dimensionalidade com o PCA"
   ]
  },
  {
   "cell_type": "markdown",
   "metadata": {},
   "source": [
    "## 2.1 Pré-processamento"
   ]
  },
  {
   "cell_type": "code",
   "execution_count": null,
   "metadata": {},
   "outputs": [],
   "source": [
    "def pca(ar, numeroDeComponentes):\n",
    "    pca = decomposition.PCA(n_components=numeroDeComponentes)\n",
    "    pca.fit(ar)\n",
    "    ar = pca.transform(ar)\n",
    "    return ar"
   ]
  },
  {
   "cell_type": "markdown",
   "metadata": {},
   "source": [
    "## 2.2 Processamento"
   ]
  },
  {
   "cell_type": "code",
   "execution_count": null,
   "metadata": {},
   "outputs": [],
   "source": [
    "def avaliar(avaliador, multiplicador, imagensTreino, targetTreino, imagensTeste, targetTeste):\n",
    "    numNeuronios = int(floor(sqrt(multiplicador * 2)))\n",
    "\n",
    "    clf = MLPClassifier(hidden_layer_sizes = numNeuronios, solver=avaliador, alpha=1e-5, \n",
    "                        random_state=1)\n",
    "\n",
    "    clf.fit(imagensTreino, targetTreino)\n",
    "\n",
    "    predito = clf.predict(imagensTeste)\n",
    "    print(\"# Resultado: \" + str(np.mean(predito == targetTeste)))\n",
    "\n",
    "    scores = cross_val_score(clf, imagensTeste, targetTeste, cv = 5, verbose = 0, scoring='accuracy')\n",
    "    print(\"# Validacao cruzada: \" + str(np.mean(scores)))\n",
    "    return np.mean(scores), np.mean(predito == targetTeste)"
   ]
  },
  {
   "cell_type": "markdown",
   "metadata": {},
   "source": [
    "## 2.3 Resultado"
   ]
  },
  {
   "cell_type": "markdown",
   "metadata": {},
   "source": [
    "![title](grafico1.jpg)"
   ]
  },
  {
   "cell_type": "markdown",
   "metadata": {},
   "source": [
    "![title](grafico2.jpg)"
   ]
  },
  {
   "cell_type": "markdown",
   "metadata": {},
   "source": [
    "![title](grafico3.jpg)"
   ]
  },
  {
   "cell_type": "markdown",
   "metadata": {},
   "source": [
    "# 3. Predição com dimensão total dos dados "
   ]
  },
  {
   "cell_type": "markdown",
   "metadata": {},
   "source": [
    "## 3.1 Pré-processamento"
   ]
  },
  {
   "cell_type": "code",
   "execution_count": null,
   "metadata": {},
   "outputs": [],
   "source": [
    "def lerDados():\n",
    "    imagensTreino = []\n",
    "    imagensTeste = []\n",
    "    targetTreino = []\n",
    "    targetTeste = []\n",
    "\n",
    "    lerImagens(0, imagensTreino, imagensTeste, targetTreino, targetTeste)\n",
    "    lerImagens(1, imagensTreino, imagensTeste, targetTreino, targetTeste)\n",
    "\n",
    "    imagensTreino = np.array(imagensTreino)\n",
    "    imagensTeste = np.array(imagensTeste)\n",
    "    targetTreino = np.array(targetTreino)\n",
    "    targetTeste = np.array(targetTeste)\n",
    "\n",
    "    imagensTreino = imagensTreino.reshape(len(imagensTreino), 400 * 400)\n",
    "    imagensTeste = imagensTeste.reshape(len(imagensTeste), 400 * 400)\n",
    "\n",
    "    return imagensTreino, imagensTeste, targetTeste, targetTreino"
   ]
  },
  {
   "cell_type": "markdown",
   "metadata": {},
   "source": [
    "## 3.2 Processamento"
   ]
  },
  {
   "cell_type": "code",
   "execution_count": null,
   "metadata": {},
   "outputs": [],
   "source": [
    "def avaliar(avaliador, imagensTreino, targetTreino, imagensTeste, targetTeste):\n",
    "    print(\"# Solver: \" + avaliador)\n",
    "    clf = MLPClassifier(hidden_layer_sizes=200, solver=avaliador, alpha=1e-5, random_state=1)\n",
    "\n",
    "    clf.fit(imagensTreino, targetTreino)\n",
    "\n",
    "    predito = clf.predict(imagensTeste)\n",
    "    print(\"# Resultado: \" + str(np.mean(predito == targetTeste)))\n",
    "\n",
    "    scores = cross_val_score(clf, imagensTeste, targetTeste, cv = 5, verbose = 0, scoring='accuracy')\n",
    "    print(\"# Validacao cruzada: \" + str(np.mean(scores)))\n",
    "    return np.mean(scores), np.mean(predito == targetTeste)"
   ]
  },
  {
   "cell_type": "markdown",
   "metadata": {},
   "source": [
    "## 3.3 Resultado"
   ]
  },
  {
   "cell_type": "markdown",
   "metadata": {},
   "source": [
    "### Tanto para 100, 200 e 566 (raiz) neurônios na camada oculta, os resultados foram:"
   ]
  },
  {
   "cell_type": "markdown",
   "metadata": {},
   "source": [
    "#### 3.3.1: lbfgs - Validação cruzada: 0.5"
   ]
  },
  {
   "cell_type": "markdown",
   "metadata": {},
   "source": [
    "#### 3.3.2: sgd - Validação cruzada: 0.5"
   ]
  },
  {
   "cell_type": "markdown",
   "metadata": {},
   "source": [
    "#### 3.3.3: adam - Validação cruzada: 0.5"
   ]
  },
  {
   "cell_type": "markdown",
   "metadata": {},
   "source": [
    "# 4. Trabalhos futuros"
   ]
  },
  {
   "cell_type": "markdown",
   "metadata": {},
   "source": [
    "## Esse artigo usa fingerprints originadas por transformadas de Fourier: http://ieeexplore.ieee.org/stamp/stamp.jsp?arnumber=809173 "
   ]
  },
  {
   "cell_type": "markdown",
   "metadata": {},
   "source": [
    "## Matrizes de co-ocorrencia"
   ]
  },
  {
   "cell_type": "markdown",
   "metadata": {},
   "source": [
    "## Transformada de Haar: http://www.ucsp.edu.pe/sibgrapi2013/eproceedings/wtd/114645.pdf"
   ]
  }
 ],
 "metadata": {
  "kernelspec": {
   "display_name": "Python 3",
   "language": "python",
   "name": "python3"
  },
  "language_info": {
   "codemirror_mode": {
    "name": "ipython",
    "version": 3
   },
   "file_extension": ".py",
   "mimetype": "text/x-python",
   "name": "python",
   "nbconvert_exporter": "python",
   "pygments_lexer": "ipython3",
   "version": "3.6.2"
  }
 },
 "nbformat": 4,
 "nbformat_minor": 2
}
